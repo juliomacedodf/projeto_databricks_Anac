{
 "cells": [
  {
   "cell_type": "code",
   "execution_count": 0,
   "metadata": {
    "application/vnd.databricks.v1+cell": {
     "cellMetadata": {},
     "inputWidgets": {},
     "nuid": "5851e21b-b05b-448f-8e17-8d66dbd05c04",
     "showTitle": false,
     "tableResultSettingsMap": {},
     "title": ""
    }
   },
   "outputs": [],
   "source": [
    "Como se evita o silo de dados?\n",
    "\n",
    "Talvez você não conheça por esse nome, mas o silo de dados é um problema relativamente comum.\n",
    "\n",
    "Imagina que você realizou um processo de ETL para entregar dados para uma área de negócio, já com as regras de negócio aplicadas. Então, surge uma necessidade de usar esse dado para outras 2 áreas diferentes.\n",
    "\n",
    "Qual o problema surge daí?\n",
    "\n",
    "Como cada área tem suas próprias necessidades, a transformação que você fez para a área 1 não serve para as áreas 2 e 3, já que elas precisam aplicar regras diferentes nos dados.\n",
    "\n",
    "E como resolver? ELT e Arquitetura de Dados.\n",
    "\n",
    "Nesse modelo, você carrega os dados em formato raw (bruto) para uma camada de armazenamento antes de aplicar qualquer transformação.\n",
    "\n",
    "A arquitetura medallion (ou medalhão), bem utilizada no Databricks, já trabalha com essa ideia de camadas de dados:\n",
    "\n",
    "- Bronze: Dados originais e brutos\n",
    "- Silver: Dados limpos e padronizados\n",
    "- Gold: Dados transformados para uso específico\n",
    "\n",
    "A ideia não é só manter os dados originais como estão, mas criar um processo mais flexível nesses cenários.\n",
    "\n",
    "Talvez tenha a necessidade de ajustar outros processos, mas essa mudança já ajuda em quase 100% dos casos."
   ]
  }
 ],
 "metadata": {
  "application/vnd.databricks.v1+notebook": {
   "computePreferences": null,
   "dashboards": [],
   "environmentMetadata": {
    "base_environment": "",
    "environment_version": "2"
   },
   "inputWidgetPreferences": null,
   "language": "python",
   "notebookMetadata": {
    "pythonIndentUnit": 4
   },
   "notebookName": "anac_camada silver",
   "widgets": {}
  },
  "language_info": {
   "name": "python"
  }
 },
 "nbformat": 4,
 "nbformat_minor": 0
}
