{
 "cells": [
  {
   "cell_type": "markdown",
   "metadata": {
    "application/vnd.databricks.v1+cell": {
     "cellMetadata": {},
     "inputWidgets": {},
     "nuid": "0d9578e2-55b4-4d4d-8182-90b50fe93435",
     "showTitle": false,
     "tableResultSettingsMap": {},
     "title": ""
    },
    "id": "4cRs_yg7eP1c"
   },
   "source": [
    "Selecionar apenas as colunas solicitadas pelo cliente e renomeá-las, criar coluna com a soma de todas as lesões e os dados de atualização,\n",
    "filtrar estados irrelevantes e salvar os dados particionados"
   ]
  },
  {
   "cell_type": "code",
   "execution_count": 0,
   "metadata": {
    "application/vnd.databricks.v1+cell": {
     "cellMetadata": {
      "byteLimit": 2048000,
      "rowLimit": 10000
     },
     "inputWidgets": {},
     "nuid": "daf6dec2-a65a-4590-9e19-1cec7d1814e4",
     "showTitle": false,
     "tableResultSettingsMap": {},
     "title": ""
    },
    "id": "6bW4QnJEeP1e",
    "outputId": "3e7043ff-ecac-4935-d171-a99a17a55af7"
   },
   "outputs": [],
   "source": [
    "df = spark.sql(\"select * from ocorrencias_silver\")\n",
    "display(df.limit(5))"
   ]
  },
  {
   "cell_type": "code",
   "execution_count": 0,
   "metadata": {
    "application/vnd.databricks.v1+cell": {
     "cellMetadata": {
      "byteLimit": 2048000,
      "rowLimit": 10000
     },
     "inputWidgets": {},
     "nuid": "09e7a51a-d679-4157-8d76-4371ff0c8751",
     "showTitle": false,
     "tableResultSettingsMap": {},
     "title": ""
    },
    "id": "2_os3sNPeP1f",
    "outputId": "c2173eb5-7c34-4a20-a3ab-dfb5737ac2ae"
   },
   "outputs": [],
   "source": [
    "print(df.columns)"
   ]
  },
  {
   "cell_type": "markdown",
   "metadata": {
    "application/vnd.databricks.v1+cell": {
     "cellMetadata": {},
     "inputWidgets": {},
     "nuid": "c518e507-0f69-46a4-a3d8-e4ad2e4fab26",
     "showTitle": false,
     "tableResultSettingsMap": {},
     "title": ""
    },
    "id": "IqKYzqNeeP1f"
   },
   "source": [
    "selecionar apenas colunas importantes"
   ]
  },
  {
   "cell_type": "code",
   "execution_count": 0,
   "metadata": {
    "application/vnd.databricks.v1+cell": {
     "cellMetadata": {
      "byteLimit": 2048000,
      "rowLimit": 10000
     },
     "inputWidgets": {},
     "nuid": "785022ff-70e8-40f6-964f-6ecac9b44339",
     "showTitle": false,
     "tableResultSettingsMap": {},
     "title": ""
    },
    "id": "RxrANHzNeP1g",
    "outputId": "f675307b-8df8-4c9c-c408-279b6ddb9a9d"
   },
   "outputs": [],
   "source": [
    "colunas = ['Aerodromo_de_Destino', 'Aerodromo_de_Origem','Classificacao_da_Ocorrência', 'Danos_a_Aeronave', 'Data_da_Ocorrencia','Municipio','UF','Regiao','Tipo_de_Aerodromo', 'Tipo_de_Ocorrencia','Lesoes_Desconhecidas_Passageiros', 'Lesoes_Desconhecidas_Terceiros', 'Lesoes_Desconhecidas_Tripulantes', 'Lesoes_Fatais_Passageiros', 'Lesoes_Fatais_Terceiros', 'Lesoes_Fatais_Tripulantes', 'Lesoes_Graves_Passageiros', 'Lesoes_Graves_Terceiros', 'Lesoes_Graves_Tripulantes', 'Lesoes_Leves_Passageiros', 'Lesoes_Leves_Terceiros', 'Lesoes_Leves_Tripulantes']\n",
    "\n",
    "df = df.select(colunas)\n",
    "display(df.limit(5))\n"
   ]
  },
  {
   "cell_type": "markdown",
   "metadata": {
    "application/vnd.databricks.v1+cell": {
     "cellMetadata": {},
     "inputWidgets": {},
     "nuid": "6102e38e-bb93-45ac-b321-0f987bc91bc0",
     "showTitle": false,
     "tableResultSettingsMap": {},
     "title": ""
    },
    "id": "DP8_AoCYeP1g"
   },
   "source": [
    "Criação de coluna de soma de todas as lesões"
   ]
  },
  {
   "cell_type": "code",
   "execution_count": 0,
   "metadata": {
    "application/vnd.databricks.v1+cell": {
     "cellMetadata": {
      "byteLimit": 2048000,
      "rowLimit": 10000
     },
     "inputWidgets": {},
     "nuid": "faecee79-ad85-457d-8157-6756668f67be",
     "showTitle": false,
     "tableResultSettingsMap": {},
     "title": ""
    },
    "id": "OVFEJouQeP1g",
    "outputId": "64d81a30-e356-44ae-f33c-4f2e0d0add38"
   },
   "outputs": [],
   "source": [
    "\n",
    "colunas_a_somar = [\n",
    "    \"Lesoes_Desconhecidas_Passageiros\",\n",
    "    \"Lesoes_Desconhecidas_Terceiros\",\n",
    "    \"Lesoes_Desconhecidas_Tripulantes\",\n",
    "    \"Lesoes_Fatais_Passageiros\",\n",
    "    \"Lesoes_Fatais_Terceiros\",\n",
    "    \"Lesoes_Fatais_Tripulantes\",\n",
    "    \"Lesoes_Graves_Passageiros\",\n",
    "    \"Lesoes_Graves_Terceiros\",\n",
    "    \"Lesoes_Graves_Tripulantes\",\n",
    "    \"Lesoes_Leves_Passageiros\",\n",
    "    \"Lesoes_Leves_Terceiros\",\n",
    "    \"Lesoes_Leves_Tripulantes\"\n",
    "]\n",
    "df = df.withColumn(\"Total_Lesoes\", sum(df[somartudo] for somartudo in colunas_a_somar))\n",
    "display(df.limit(5))"
   ]
  },
  {
   "cell_type": "code",
   "execution_count": 0,
   "metadata": {
    "application/vnd.databricks.v1+cell": {
     "cellMetadata": {
      "byteLimit": 2048000,
      "rowLimit": 10000
     },
     "inputWidgets": {},
     "nuid": "4d724a11-fb23-4a0c-8762-f7c4d71865b3",
     "showTitle": false,
     "tableResultSettingsMap": {},
     "title": ""
    },
    "id": "fRYWIQQHeP1h",
    "outputId": "9bbaac67-5bf0-4f2d-9ae6-f12967585e36"
   },
   "outputs": [],
   "source": [
    "print(df.columns)"
   ]
  },
  {
   "cell_type": "code",
   "execution_count": 0,
   "metadata": {
    "application/vnd.databricks.v1+cell": {
     "cellMetadata": {
      "byteLimit": 2048000,
      "rowLimit": 10000
     },
     "inputWidgets": {},
     "nuid": "3b0ed7f5-e0a9-4725-8eac-9367a9bf864f",
     "showTitle": false,
     "tableResultSettingsMap": {},
     "title": ""
    },
    "id": "GpzkKXipeP1h",
    "outputId": "61987a84-dc5c-4e65-c03b-fe905abd638f"
   },
   "outputs": [],
   "source": [
    "# 3°:renomear colunas para ficar mais intuitivas para o usuario final\n",
    "df = df\\\n",
    "    .withColumnRenamed('Aerodromo_de_Destino', 'Destino')\\\n",
    "    .withColumnRenamed('Aerodromo_de_Origem', 'Origem')\\\n",
    "    .withColumnRenamed('Classificacao_da_Ocorrência', 'Classificacao')\\\n",
    "    .withColumnRenamed('Danos_a_Aeronave', 'Danos')\\\n",
    "    .withColumnRenamed('Data_da_Ocorrencia', 'Data')\\\n",
    "    .withColumnRenamed('Aerodromo_de_Destino', 'Destino')\\\n",
    "    .withColumnRenamed('Aerodromo_de_Destino', 'Destino')\n",
    "display(df.limit(5))\n"
   ]
  },
  {
   "cell_type": "markdown",
   "metadata": {
    "application/vnd.databricks.v1+cell": {
     "cellMetadata": {},
     "inputWidgets": {},
     "nuid": "6050d45e-7e19-4d02-9996-2a96b494fdb1",
     "showTitle": false,
     "tableResultSettingsMap": {},
     "title": ""
    },
    "id": "ND9lqLdseP1h"
   },
   "source": [
    "Removemos os registros como Estado iguais a \"Indeterminado\", \"Sem Registro\"e \"Exterior\"para garantir a qualidade dos dados e focar apenas em informações de ocorrências dentro do território nacional, otimizando a análise."
   ]
  },
  {
   "cell_type": "code",
   "execution_count": 0,
   "metadata": {
    "application/vnd.databricks.v1+cell": {
     "cellMetadata": {
      "byteLimit": 2048000,
      "rowLimit": 10000
     },
     "inputWidgets": {},
     "nuid": "6a9028cd-a4db-44ab-b024-3c59a489d58d",
     "showTitle": false,
     "tableResultSettingsMap": {},
     "title": ""
    },
    "id": "pgWOs3ygeP1h",
    "outputId": "bff93172-b4cb-4168-f12a-87b2f8c14685"
   },
   "outputs": [],
   "source": [
    "\n",
    "Filtro = [\"Indeterminado\", \"Sem Registro\", \"Exterior\"]\n",
    "display( df.filter( ~df['UF'].isin(Filtro)).limit(5) )"
   ]
  },
  {
   "cell_type": "code",
   "execution_count": 0,
   "metadata": {
    "application/vnd.databricks.v1+cell": {
     "cellMetadata": {
      "byteLimit": 2048000,
      "rowLimit": 10000
     },
     "inputWidgets": {},
     "nuid": "1f7ecc23-24ff-490c-9c3e-0e1da179203c",
     "showTitle": false,
     "tableResultSettingsMap": {},
     "title": ""
    },
    "id": "xQslUhg5eP1h",
    "outputId": "fb661c8c-c6c5-44e2-b5a3-d8bbdebe84fb"
   },
   "outputs": [],
   "source": [
    "\n",
    "\n",
    "classificacoes_a_excluir = [\"Indeterminado\", \"Sem Registro\", \"Exterior\"]\n",
    "df = df.filter(~df['UF'].isin(classificacoes_a_excluir))\n",
    "display(df.limit(5))\n"
   ]
  },
  {
   "cell_type": "markdown",
   "metadata": {
    "application/vnd.databricks.v1+cell": {
     "cellMetadata": {},
     "inputWidgets": {},
     "nuid": "fef2eff8-0a85-415a-a228-74eca5c44a7a",
     "showTitle": false,
     "tableResultSettingsMap": {},
     "title": ""
    },
    "id": "kKT3a34XeP1i"
   },
   "source": [
    "Adiciona uma coluna \"Atualizacao\" com a data e hora da última atualização no fuso horário de São Paulo,\n",
    "permitindo que os usuários saibam quando os dados foram atualizados."
   ]
  },
  {
   "cell_type": "code",
   "execution_count": 0,
   "metadata": {
    "application/vnd.databricks.v1+cell": {
     "cellMetadata": {
      "byteLimit": 2048000,
      "rowLimit": 10000
     },
     "inputWidgets": {},
     "nuid": "e5cc14c0-dbf9-49ff-a2c9-52c4ecfcf43f",
     "showTitle": false,
     "tableResultSettingsMap": {},
     "title": ""
    },
    "id": "PvhN_j-geP1i",
    "outputId": "595bb099-eac4-4496-f584-7c39763a46cf"
   },
   "outputs": [],
   "source": [
    "from pyspark.sql.functions import current_timestamp, date_format,from_utc_timestamp\n",
    "df = df.withColumn(\"Atualizacao\",\\\n",
    "     date_format( from_utc_timestamp(current_timestamp(), \"America/Sao_Paulo\"), \"yyyy-MM-dd HH:mm:ss\"))\n",
    "display(df.limit(5))"
   ]
  },
  {
   "cell_type": "markdown",
   "metadata": {
    "application/vnd.databricks.v1+cell": {
     "cellMetadata": {},
     "inputWidgets": {},
     "nuid": "023ef6c7-09da-4e1b-925e-c21c966ea255",
     "showTitle": false,
     "tableResultSettingsMap": {},
     "title": ""
    },
    "id": "JjLfShSXeP1o"
   },
   "source": [
    "Salvando em formato Delta, particionando e testando"
   ]
  },
  {
   "cell_type": "code",
   "execution_count": 0,
   "metadata": {
    "application/vnd.databricks.v1+cell": {
     "cellMetadata": {
      "byteLimit": 2048000,
      "rowLimit": 10000
     },
     "inputWidgets": {},
     "nuid": "f53cafc8-e2a9-4592-9106-e087826f6048",
     "showTitle": false,
     "tableResultSettingsMap": {},
     "title": ""
    },
    "id": "pUpxnLspeP1o"
   },
   "outputs": [],
   "source": [
    "df.write.format(\"delta\") \\\n",
    "    .partitionBy(\"UF\") \\\n",
    "    .mode(\"overwrite\") \\\n",
    "    .saveAsTable(\"ocorrencias_gold\")"
   ]
  },
  {
   "cell_type": "code",
   "execution_count": 0,
   "metadata": {
    "application/vnd.databricks.v1+cell": {
     "cellMetadata": {
      "byteLimit": 2048000,
      "rowLimit": 10000
     },
     "inputWidgets": {},
     "nuid": "c9d95867-4855-451f-b7dc-20063452894d",
     "showTitle": false,
     "tableResultSettingsMap": {},
     "title": ""
    },
    "id": "ue61VHdpeP1o",
    "outputId": "bef16169-7adf-4285-e229-52f320316613"
   },
   "outputs": [],
   "source": [
    "display(spark.sql(\"select * from ocorrencias_gold where UF = 'MG'\").limit(5))"
   ]
  },
  {
   "cell_type": "code",
   "execution_count": 0,
   "metadata": {
    "application/vnd.databricks.v1+cell": {
     "cellMetadata": {},
     "inputWidgets": {},
     "nuid": "0a5a5c49-56b6-444b-aa99-b03d78ad6478",
     "showTitle": false,
     "tableResultSettingsMap": {},
     "title": ""
    },
    "id": "omRUtLsPeP1o"
   },
   "outputs": [],
   "source": []
  }
 ],
 "metadata": {
  "application/vnd.databricks.v1+notebook": {
   "computePreferences": null,
   "dashboards": [],
   "environmentMetadata": null,
   "inputWidgetPreferences": null,
   "language": "python",
   "notebookMetadata": {
    "mostRecentlyExecutedCommandWithImplicitDF": {
     "commandId": 3911042157432530,
     "dataframes": [
      "_sqldf"
     ]
    },
    "pythonIndentUnit": 4
   },
   "notebookName": "5_Anac_Camada_Gold_(4)",
   "widgets": {}
  },
  "colab": {
   "provenance": []
  },
  "language_info": {
   "name": "python"
  }
 },
 "nbformat": 4,
 "nbformat_minor": 0
}
